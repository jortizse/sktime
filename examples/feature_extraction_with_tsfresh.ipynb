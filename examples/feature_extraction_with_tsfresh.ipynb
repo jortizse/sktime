{
 "cells": [
  {
   "cell_type": "markdown",
   "metadata": {},
   "source": [
    "# Feature extraction with tsfresh transformer\n",
    "\n",
    "In this tutorial, we show how you can use sktime with [tsfresh](https://tsfresh.readthedocs.io) to first extract features from time series, so that we can then use any scikit-learn estimator.\n",
    "\n",
    "## Preliminaries\n",
    "You have to install tsfresh if you haven't already. To install it, uncomment the cell below:"
   ]
  },
  {
   "cell_type": "code",
   "execution_count": 1,
   "metadata": {},
   "outputs": [],
   "source": [
    "# !pip install --upgrade tsfresh"
   ]
  },
  {
   "cell_type": "code",
   "execution_count": 2,
   "metadata": {},
   "outputs": [],
   "source": [
    "import numpy as np\n",
    "from sklearn.model_selection import train_test_split\n",
    "from sklearn.ensemble import RandomForestClassifier\n",
    "from sklearn.pipeline import make_pipeline\n",
    "from sktime.datasets import load_basic_motions\n",
    "from sktime.datasets import load_arrow_head\n",
    "from sktime.transformers.series_as_features.summarize import \\\n",
    "    TSFreshFeatureExtractor"
   ]
  },
  {
   "cell_type": "markdown",
   "metadata": {},
   "source": [
    "## Univariate time series classification data\n",
    "\n",
    "For more details on the data set, see the [univariate time series classification notebook](https://github.com/alan-turing-institute/sktime/blob/master/examples/02_classification_univariate.ipynb)."
   ]
  },
  {
   "cell_type": "code",
   "execution_count": 3,
   "metadata": {},
   "outputs": [
    {
     "name": "stdout",
     "output_type": "stream",
     "text": [
      "(158, 1) (158,) (53, 1) (53,)\n"
     ]
    }
   ],
   "source": [
    "X, y = load_arrow_head(return_X_y=True)\n",
    "X_train, X_test, y_train, y_test = train_test_split(X, y)\n",
    "print(X_train.shape, y_train.shape, X_test.shape, y_test.shape)"
   ]
  },
  {
   "cell_type": "code",
   "execution_count": 4,
   "metadata": {
    "jupyter": {
     "outputs_hidden": false
    },
    "pycharm": {
     "name": "#%%\n"
    }
   },
   "outputs": [
    {
     "data": {
      "text/html": [
       "<div>\n",
       "<style scoped>\n",
       "    .dataframe tbody tr th:only-of-type {\n",
       "        vertical-align: middle;\n",
       "    }\n",
       "\n",
       "    .dataframe tbody tr th {\n",
       "        vertical-align: top;\n",
       "    }\n",
       "\n",
       "    .dataframe thead th {\n",
       "        text-align: right;\n",
       "    }\n",
       "</style>\n",
       "<table border=\"1\" class=\"dataframe\">\n",
       "  <thead>\n",
       "    <tr style=\"text-align: right;\">\n",
       "      <th></th>\n",
       "      <th>dim_0</th>\n",
       "    </tr>\n",
       "  </thead>\n",
       "  <tbody>\n",
       "    <tr>\n",
       "      <th>164</th>\n",
       "      <td>0     -1.8055\n",
       "1     -1.7985\n",
       "2     -1.7606\n",
       "3   ...</td>\n",
       "    </tr>\n",
       "    <tr>\n",
       "      <th>60</th>\n",
       "      <td>0     -1.9674\n",
       "1     -1.9672\n",
       "2     -1.9512\n",
       "3   ...</td>\n",
       "    </tr>\n",
       "    <tr>\n",
       "      <th>38</th>\n",
       "      <td>0     -2.1322\n",
       "1     -2.1192\n",
       "2     -2.0902\n",
       "3   ...</td>\n",
       "    </tr>\n",
       "    <tr>\n",
       "      <th>18</th>\n",
       "      <td>0     -1.9501\n",
       "1     -1.9645\n",
       "2     -1.9495\n",
       "3   ...</td>\n",
       "    </tr>\n",
       "    <tr>\n",
       "      <th>135</th>\n",
       "      <td>0     -1.7096\n",
       "1     -1.7071\n",
       "2     -1.6632\n",
       "3   ...</td>\n",
       "    </tr>\n",
       "  </tbody>\n",
       "</table>\n",
       "</div>"
      ],
      "text/plain": [
       "                                                 dim_0\n",
       "164  0     -1.8055\n",
       "1     -1.7985\n",
       "2     -1.7606\n",
       "3   ...\n",
       "60   0     -1.9674\n",
       "1     -1.9672\n",
       "2     -1.9512\n",
       "3   ...\n",
       "38   0     -2.1322\n",
       "1     -2.1192\n",
       "2     -2.0902\n",
       "3   ...\n",
       "18   0     -1.9501\n",
       "1     -1.9645\n",
       "2     -1.9495\n",
       "3   ...\n",
       "135  0     -1.7096\n",
       "1     -1.7071\n",
       "2     -1.6632\n",
       "3   ..."
      ]
     },
     "execution_count": 4,
     "metadata": {},
     "output_type": "execute_result"
    }
   ],
   "source": [
    "X_train.head()"
   ]
  },
  {
   "cell_type": "code",
   "execution_count": 5,
   "metadata": {},
   "outputs": [
    {
     "data": {
      "text/plain": [
       "array(['0', '1', '2'], dtype=object)"
      ]
     },
     "execution_count": 5,
     "metadata": {},
     "output_type": "execute_result"
    }
   ],
   "source": [
    "# binary classification task\n",
    "np.unique(y_train)"
   ]
  },
  {
   "cell_type": "markdown",
   "metadata": {},
   "source": [
    "## Using tsfresh to extract features"
   ]
  },
  {
   "cell_type": "code",
   "execution_count": 6,
   "metadata": {},
   "outputs": [
    {
     "name": "stderr",
     "output_type": "stream",
     "text": [
      "/Users/travis/build/alan-turing-institute/sktime/sktime/transformers/series_as_features/summarize/_tsfresh.py:150: UserWarning: Found non-unique index, replaced with unique index.\n",
      "  warn(\"Found non-unique index, replaced with unique index.\")\n"
     ]
    },
    {
     "name": "stderr",
     "output_type": "stream",
     "text": [
      "\r",
      "Feature Extraction:   0%|          | 0/5 [00:00<?, ?it/s]"
     ]
    },
    {
     "name": "stderr",
     "output_type": "stream",
     "text": [
      "\r",
      "Feature Extraction:  20%|██        | 1/5 [00:04<00:17,  4.45s/it]"
     ]
    },
    {
     "name": "stderr",
     "output_type": "stream",
     "text": [
      "\r",
      "Feature Extraction:  40%|████      | 2/5 [00:08<00:13,  4.42s/it]"
     ]
    },
    {
     "name": "stderr",
     "output_type": "stream",
     "text": [
      "\r",
      "Feature Extraction:  60%|██████    | 3/5 [00:13<00:09,  4.63s/it]"
     ]
    },
    {
     "name": "stderr",
     "output_type": "stream",
     "text": [
      "\r",
      "Feature Extraction:  80%|████████  | 4/5 [00:18<00:04,  4.74s/it]"
     ]
    },
    {
     "name": "stderr",
     "output_type": "stream",
     "text": [
      "\r",
      "Feature Extraction: 100%|██████████| 5/5 [00:22<00:00,  4.53s/it]"
     ]
    },
    {
     "name": "stderr",
     "output_type": "stream",
     "text": [
      "\r",
      "Feature Extraction: 100%|██████████| 5/5 [00:22<00:00,  4.59s/it]"
     ]
    },
    {
     "name": "stderr",
     "output_type": "stream",
     "text": [
      "\n"
     ]
    },
    {
     "data": {
      "text/html": [
       "<div>\n",
       "<style scoped>\n",
       "    .dataframe tbody tr th:only-of-type {\n",
       "        vertical-align: middle;\n",
       "    }\n",
       "\n",
       "    .dataframe tbody tr th {\n",
       "        vertical-align: top;\n",
       "    }\n",
       "\n",
       "    .dataframe thead th {\n",
       "        text-align: right;\n",
       "    }\n",
       "</style>\n",
       "<table border=\"1\" class=\"dataframe\">\n",
       "  <thead>\n",
       "    <tr style=\"text-align: right;\">\n",
       "      <th>variable</th>\n",
       "      <th>dim_0__abs_energy</th>\n",
       "      <th>dim_0__absolute_sum_of_changes</th>\n",
       "      <th>dim_0__agg_autocorrelation__f_agg_\"mean\"__maxlag_40</th>\n",
       "      <th>dim_0__agg_autocorrelation__f_agg_\"median\"__maxlag_40</th>\n",
       "      <th>dim_0__agg_autocorrelation__f_agg_\"var\"__maxlag_40</th>\n",
       "      <th>dim_0__agg_linear_trend__attr_\"intercept\"__chunk_len_10__f_agg_\"max\"</th>\n",
       "      <th>dim_0__agg_linear_trend__attr_\"intercept\"__chunk_len_10__f_agg_\"mean\"</th>\n",
       "      <th>dim_0__agg_linear_trend__attr_\"intercept\"__chunk_len_10__f_agg_\"min\"</th>\n",
       "      <th>dim_0__agg_linear_trend__attr_\"intercept\"__chunk_len_10__f_agg_\"var\"</th>\n",
       "      <th>dim_0__agg_linear_trend__attr_\"intercept\"__chunk_len_50__f_agg_\"max\"</th>\n",
       "      <th>...</th>\n",
       "      <th>dim_0__symmetry_looking__r_0.9500000000000001</th>\n",
       "      <th>dim_0__time_reversal_asymmetry_statistic__lag_1</th>\n",
       "      <th>dim_0__time_reversal_asymmetry_statistic__lag_2</th>\n",
       "      <th>dim_0__time_reversal_asymmetry_statistic__lag_3</th>\n",
       "      <th>dim_0__value_count__value_-1</th>\n",
       "      <th>dim_0__value_count__value_0</th>\n",
       "      <th>dim_0__value_count__value_1</th>\n",
       "      <th>dim_0__variance</th>\n",
       "      <th>dim_0__variance_larger_than_standard_deviation</th>\n",
       "      <th>dim_0__variation_coefficient</th>\n",
       "    </tr>\n",
       "  </thead>\n",
       "  <tbody>\n",
       "    <tr>\n",
       "      <th>0</th>\n",
       "      <td>250.000226</td>\n",
       "      <td>76.690210</td>\n",
       "      <td>0.293866</td>\n",
       "      <td>0.330204</td>\n",
       "      <td>0.090908</td>\n",
       "      <td>-0.282153</td>\n",
       "      <td>-0.547447</td>\n",
       "      <td>-0.969357</td>\n",
       "      <td>0.073632</td>\n",
       "      <td>0.690201</td>\n",
       "      <td>...</td>\n",
       "      <td>1.0</td>\n",
       "      <td>0.044604</td>\n",
       "      <td>0.002661</td>\n",
       "      <td>-0.016694</td>\n",
       "      <td>0.0</td>\n",
       "      <td>0.0</td>\n",
       "      <td>0.0</td>\n",
       "      <td>0.996017</td>\n",
       "      <td>0.0</td>\n",
       "      <td>4.093131e+05</td>\n",
       "    </tr>\n",
       "    <tr>\n",
       "      <th>1</th>\n",
       "      <td>249.998592</td>\n",
       "      <td>87.688278</td>\n",
       "      <td>0.205576</td>\n",
       "      <td>0.230787</td>\n",
       "      <td>0.094525</td>\n",
       "      <td>-0.119874</td>\n",
       "      <td>-0.455357</td>\n",
       "      <td>-1.269181</td>\n",
       "      <td>0.139167</td>\n",
       "      <td>0.980217</td>\n",
       "      <td>...</td>\n",
       "      <td>1.0</td>\n",
       "      <td>0.066438</td>\n",
       "      <td>0.015675</td>\n",
       "      <td>-0.003061</td>\n",
       "      <td>0.0</td>\n",
       "      <td>0.0</td>\n",
       "      <td>0.0</td>\n",
       "      <td>0.996010</td>\n",
       "      <td>0.0</td>\n",
       "      <td>8.133078e+05</td>\n",
       "    </tr>\n",
       "    <tr>\n",
       "      <th>2</th>\n",
       "      <td>249.999868</td>\n",
       "      <td>91.793236</td>\n",
       "      <td>0.101214</td>\n",
       "      <td>0.104178</td>\n",
       "      <td>0.118303</td>\n",
       "      <td>0.075591</td>\n",
       "      <td>-0.302352</td>\n",
       "      <td>-1.243037</td>\n",
       "      <td>0.174880</td>\n",
       "      <td>0.917310</td>\n",
       "      <td>...</td>\n",
       "      <td>1.0</td>\n",
       "      <td>0.074464</td>\n",
       "      <td>0.003644</td>\n",
       "      <td>-0.034402</td>\n",
       "      <td>0.0</td>\n",
       "      <td>0.0</td>\n",
       "      <td>0.0</td>\n",
       "      <td>0.996015</td>\n",
       "      <td>0.0</td>\n",
       "      <td>-1.431425e+06</td>\n",
       "    </tr>\n",
       "    <tr>\n",
       "      <th>3</th>\n",
       "      <td>250.000417</td>\n",
       "      <td>87.342758</td>\n",
       "      <td>0.205766</td>\n",
       "      <td>0.223395</td>\n",
       "      <td>0.098595</td>\n",
       "      <td>-0.170609</td>\n",
       "      <td>-0.461739</td>\n",
       "      <td>-1.268942</td>\n",
       "      <td>0.126348</td>\n",
       "      <td>0.803620</td>\n",
       "      <td>...</td>\n",
       "      <td>1.0</td>\n",
       "      <td>0.067745</td>\n",
       "      <td>0.018134</td>\n",
       "      <td>-0.001870</td>\n",
       "      <td>0.0</td>\n",
       "      <td>0.0</td>\n",
       "      <td>0.0</td>\n",
       "      <td>0.996018</td>\n",
       "      <td>0.0</td>\n",
       "      <td>5.154315e+05</td>\n",
       "    </tr>\n",
       "    <tr>\n",
       "      <th>4</th>\n",
       "      <td>249.999798</td>\n",
       "      <td>77.424482</td>\n",
       "      <td>0.336698</td>\n",
       "      <td>0.384817</td>\n",
       "      <td>0.085215</td>\n",
       "      <td>-0.286724</td>\n",
       "      <td>-0.624776</td>\n",
       "      <td>-1.114332</td>\n",
       "      <td>0.091544</td>\n",
       "      <td>0.682365</td>\n",
       "      <td>...</td>\n",
       "      <td>1.0</td>\n",
       "      <td>0.037713</td>\n",
       "      <td>0.006068</td>\n",
       "      <td>-0.012956</td>\n",
       "      <td>0.0</td>\n",
       "      <td>0.0</td>\n",
       "      <td>0.0</td>\n",
       "      <td>0.996015</td>\n",
       "      <td>0.0</td>\n",
       "      <td>5.667407e+05</td>\n",
       "    </tr>\n",
       "  </tbody>\n",
       "</table>\n",
       "<p>5 rows × 757 columns</p>\n",
       "</div>"
      ],
      "text/plain": [
       "variable  dim_0__abs_energy  dim_0__absolute_sum_of_changes  \\\n",
       "0                250.000226                       76.690210   \n",
       "1                249.998592                       87.688278   \n",
       "2                249.999868                       91.793236   \n",
       "3                250.000417                       87.342758   \n",
       "4                249.999798                       77.424482   \n",
       "\n",
       "variable  dim_0__agg_autocorrelation__f_agg_\"mean\"__maxlag_40  \\\n",
       "0                                                  0.293866     \n",
       "1                                                  0.205576     \n",
       "2                                                  0.101214     \n",
       "3                                                  0.205766     \n",
       "4                                                  0.336698     \n",
       "\n",
       "variable  dim_0__agg_autocorrelation__f_agg_\"median\"__maxlag_40  \\\n",
       "0                                                  0.330204       \n",
       "1                                                  0.230787       \n",
       "2                                                  0.104178       \n",
       "3                                                  0.223395       \n",
       "4                                                  0.384817       \n",
       "\n",
       "variable  dim_0__agg_autocorrelation__f_agg_\"var\"__maxlag_40  \\\n",
       "0                                                  0.090908    \n",
       "1                                                  0.094525    \n",
       "2                                                  0.118303    \n",
       "3                                                  0.098595    \n",
       "4                                                  0.085215    \n",
       "\n",
       "variable  dim_0__agg_linear_trend__attr_\"intercept\"__chunk_len_10__f_agg_\"max\"  \\\n",
       "0                                                 -0.282153                      \n",
       "1                                                 -0.119874                      \n",
       "2                                                  0.075591                      \n",
       "3                                                 -0.170609                      \n",
       "4                                                 -0.286724                      \n",
       "\n",
       "variable  dim_0__agg_linear_trend__attr_\"intercept\"__chunk_len_10__f_agg_\"mean\"  \\\n",
       "0                                                 -0.547447                       \n",
       "1                                                 -0.455357                       \n",
       "2                                                 -0.302352                       \n",
       "3                                                 -0.461739                       \n",
       "4                                                 -0.624776                       \n",
       "\n",
       "variable  dim_0__agg_linear_trend__attr_\"intercept\"__chunk_len_10__f_agg_\"min\"  \\\n",
       "0                                                 -0.969357                      \n",
       "1                                                 -1.269181                      \n",
       "2                                                 -1.243037                      \n",
       "3                                                 -1.268942                      \n",
       "4                                                 -1.114332                      \n",
       "\n",
       "variable  dim_0__agg_linear_trend__attr_\"intercept\"__chunk_len_10__f_agg_\"var\"  \\\n",
       "0                                                  0.073632                      \n",
       "1                                                  0.139167                      \n",
       "2                                                  0.174880                      \n",
       "3                                                  0.126348                      \n",
       "4                                                  0.091544                      \n",
       "\n",
       "variable  dim_0__agg_linear_trend__attr_\"intercept\"__chunk_len_50__f_agg_\"max\"  \\\n",
       "0                                                  0.690201                      \n",
       "1                                                  0.980217                      \n",
       "2                                                  0.917310                      \n",
       "3                                                  0.803620                      \n",
       "4                                                  0.682365                      \n",
       "\n",
       "variable  ...  dim_0__symmetry_looking__r_0.9500000000000001  \\\n",
       "0         ...                                            1.0   \n",
       "1         ...                                            1.0   \n",
       "2         ...                                            1.0   \n",
       "3         ...                                            1.0   \n",
       "4         ...                                            1.0   \n",
       "\n",
       "variable  dim_0__time_reversal_asymmetry_statistic__lag_1  \\\n",
       "0                                                0.044604   \n",
       "1                                                0.066438   \n",
       "2                                                0.074464   \n",
       "3                                                0.067745   \n",
       "4                                                0.037713   \n",
       "\n",
       "variable  dim_0__time_reversal_asymmetry_statistic__lag_2  \\\n",
       "0                                                0.002661   \n",
       "1                                                0.015675   \n",
       "2                                                0.003644   \n",
       "3                                                0.018134   \n",
       "4                                                0.006068   \n",
       "\n",
       "variable  dim_0__time_reversal_asymmetry_statistic__lag_3  \\\n",
       "0                                               -0.016694   \n",
       "1                                               -0.003061   \n",
       "2                                               -0.034402   \n",
       "3                                               -0.001870   \n",
       "4                                               -0.012956   \n",
       "\n",
       "variable  dim_0__value_count__value_-1  dim_0__value_count__value_0  \\\n",
       "0                                  0.0                          0.0   \n",
       "1                                  0.0                          0.0   \n",
       "2                                  0.0                          0.0   \n",
       "3                                  0.0                          0.0   \n",
       "4                                  0.0                          0.0   \n",
       "\n",
       "variable  dim_0__value_count__value_1  dim_0__variance  \\\n",
       "0                                 0.0         0.996017   \n",
       "1                                 0.0         0.996010   \n",
       "2                                 0.0         0.996015   \n",
       "3                                 0.0         0.996018   \n",
       "4                                 0.0         0.996015   \n",
       "\n",
       "variable  dim_0__variance_larger_than_standard_deviation  \\\n",
       "0                                                    0.0   \n",
       "1                                                    0.0   \n",
       "2                                                    0.0   \n",
       "3                                                    0.0   \n",
       "4                                                    0.0   \n",
       "\n",
       "variable  dim_0__variation_coefficient  \n",
       "0                         4.093131e+05  \n",
       "1                         8.133078e+05  \n",
       "2                        -1.431425e+06  \n",
       "3                         5.154315e+05  \n",
       "4                         5.667407e+05  \n",
       "\n",
       "[5 rows x 757 columns]"
      ]
     },
     "execution_count": 6,
     "metadata": {},
     "output_type": "execute_result"
    }
   ],
   "source": [
    "# tf = TsFreshTransfomer()\n",
    "t = TSFreshFeatureExtractor(default_fc_parameters=\"efficient\", show_warnings=False)\n",
    "Xt = t.fit_transform(X_train)\n",
    "Xt.head()"
   ]
  },
  {
   "cell_type": "markdown",
   "metadata": {},
   "source": [
    "## Using tsfresh with sktime"
   ]
  },
  {
   "cell_type": "code",
   "execution_count": 7,
   "metadata": {},
   "outputs": [
    {
     "name": "stderr",
     "output_type": "stream",
     "text": [
      "/Users/travis/build/alan-turing-institute/sktime/sktime/transformers/series_as_features/summarize/_tsfresh.py:150: UserWarning: Found non-unique index, replaced with unique index.\n",
      "  warn(\"Found non-unique index, replaced with unique index.\")\n"
     ]
    },
    {
     "name": "stderr",
     "output_type": "stream",
     "text": [
      "\r",
      "Feature Extraction:   0%|          | 0/5 [00:00<?, ?it/s]"
     ]
    },
    {
     "name": "stderr",
     "output_type": "stream",
     "text": [
      "\r",
      "Feature Extraction:  20%|██        | 1/5 [00:04<00:19,  4.79s/it]"
     ]
    },
    {
     "name": "stderr",
     "output_type": "stream",
     "text": [
      "\r",
      "Feature Extraction:  40%|████      | 2/5 [00:09<00:13,  4.63s/it]"
     ]
    },
    {
     "name": "stderr",
     "output_type": "stream",
     "text": [
      "\r",
      "Feature Extraction:  60%|██████    | 3/5 [00:13<00:09,  4.58s/it]"
     ]
    },
    {
     "name": "stderr",
     "output_type": "stream",
     "text": [
      "\r",
      "Feature Extraction:  80%|████████  | 4/5 [00:17<00:04,  4.52s/it]"
     ]
    },
    {
     "name": "stderr",
     "output_type": "stream",
     "text": [
      "\r",
      "Feature Extraction: 100%|██████████| 5/5 [00:22<00:00,  4.41s/it]"
     ]
    },
    {
     "name": "stderr",
     "output_type": "stream",
     "text": [
      "\r",
      "Feature Extraction: 100%|██████████| 5/5 [00:22<00:00,  4.41s/it]"
     ]
    },
    {
     "name": "stderr",
     "output_type": "stream",
     "text": [
      "\n"
     ]
    },
    {
     "name": "stderr",
     "output_type": "stream",
     "text": [
      "/Users/travis/build/alan-turing-institute/sktime/sktime/transformers/series_as_features/summarize/_tsfresh.py:150: UserWarning: Found non-unique index, replaced with unique index.\n",
      "  warn(\"Found non-unique index, replaced with unique index.\")\n"
     ]
    },
    {
     "name": "stderr",
     "output_type": "stream",
     "text": [
      "\r",
      "Feature Extraction:   0%|          | 0/5 [00:00<?, ?it/s]"
     ]
    },
    {
     "name": "stderr",
     "output_type": "stream",
     "text": [
      "\r",
      "Feature Extraction:  20%|██        | 1/5 [00:01<00:06,  1.60s/it]"
     ]
    },
    {
     "name": "stderr",
     "output_type": "stream",
     "text": [
      "\r",
      "Feature Extraction:  40%|████      | 2/5 [00:03<00:04,  1.58s/it]"
     ]
    },
    {
     "name": "stderr",
     "output_type": "stream",
     "text": [
      "\r",
      "Feature Extraction:  60%|██████    | 3/5 [00:04<00:03,  1.55s/it]"
     ]
    },
    {
     "name": "stderr",
     "output_type": "stream",
     "text": [
      "\r",
      "Feature Extraction:  80%|████████  | 4/5 [00:06<00:01,  1.54s/it]"
     ]
    },
    {
     "name": "stderr",
     "output_type": "stream",
     "text": [
      "\r",
      "Feature Extraction: 100%|██████████| 5/5 [00:07<00:00,  1.44s/it]"
     ]
    },
    {
     "name": "stderr",
     "output_type": "stream",
     "text": [
      "\r",
      "Feature Extraction: 100%|██████████| 5/5 [00:07<00:00,  1.47s/it]"
     ]
    },
    {
     "name": "stderr",
     "output_type": "stream",
     "text": [
      "\n"
     ]
    },
    {
     "data": {
      "text/plain": [
       "0.8867924528301887"
      ]
     },
     "execution_count": 7,
     "metadata": {},
     "output_type": "execute_result"
    }
   ],
   "source": [
    "classifier = make_pipeline(\n",
    "    TSFreshFeatureExtractor(default_fc_parameters=\"efficient\", show_warnings=False),\n",
    "    RandomForestClassifier()\n",
    ")\n",
    "classifier.fit(X_train, y_train)\n",
    "classifier.score(X_test, y_test)"
   ]
  },
  {
   "cell_type": "markdown",
   "metadata": {},
   "source": [
    "## Multivariate time series classification data"
   ]
  },
  {
   "cell_type": "code",
   "execution_count": 8,
   "metadata": {
    "scrolled": true
   },
   "outputs": [
    {
     "name": "stdout",
     "output_type": "stream",
     "text": [
      "(60, 6) (60,) (20, 6) (20,)\n"
     ]
    }
   ],
   "source": [
    "X, y = load_basic_motions(return_X_y=True)\n",
    "X_train, X_test, y_train, y_test = train_test_split(X, y)\n",
    "print(X_train.shape, y_train.shape, X_test.shape, y_test.shape)"
   ]
  },
  {
   "cell_type": "code",
   "execution_count": 9,
   "metadata": {
    "jupyter": {
     "outputs_hidden": false
    },
    "pycharm": {
     "name": "#%%\n"
    }
   },
   "outputs": [
    {
     "data": {
      "text/html": [
       "<div>\n",
       "<style scoped>\n",
       "    .dataframe tbody tr th:only-of-type {\n",
       "        vertical-align: middle;\n",
       "    }\n",
       "\n",
       "    .dataframe tbody tr th {\n",
       "        vertical-align: top;\n",
       "    }\n",
       "\n",
       "    .dataframe thead th {\n",
       "        text-align: right;\n",
       "    }\n",
       "</style>\n",
       "<table border=\"1\" class=\"dataframe\">\n",
       "  <thead>\n",
       "    <tr style=\"text-align: right;\">\n",
       "      <th></th>\n",
       "      <th>dim_0</th>\n",
       "      <th>dim_1</th>\n",
       "      <th>dim_2</th>\n",
       "      <th>dim_3</th>\n",
       "      <th>dim_4</th>\n",
       "      <th>dim_5</th>\n",
       "    </tr>\n",
       "  </thead>\n",
       "  <tbody>\n",
       "    <tr>\n",
       "      <th>26</th>\n",
       "      <td>0    -0.761604\n",
       "1    -0.761604\n",
       "2     0.121078\n",
       "3...</td>\n",
       "      <td>0     0.260125\n",
       "1     0.260125\n",
       "2    -1.423255\n",
       "3...</td>\n",
       "      <td>0    -0.064487\n",
       "1    -0.064487\n",
       "2     0.075600\n",
       "3...</td>\n",
       "      <td>0     0.069248\n",
       "1     0.069248\n",
       "2    -0.282318\n",
       "3...</td>\n",
       "      <td>0     0.242367\n",
       "1     0.242367\n",
       "2    -0.332922\n",
       "3...</td>\n",
       "      <td>0    -0.007990\n",
       "1    -0.007990\n",
       "2     0.239704\n",
       "3...</td>\n",
       "    </tr>\n",
       "    <tr>\n",
       "      <th>24</th>\n",
       "      <td>0     0.383922\n",
       "1     0.383922\n",
       "2    -0.272575\n",
       "3...</td>\n",
       "      <td>0     0.302612\n",
       "1     0.302612\n",
       "2    -1.381236\n",
       "3...</td>\n",
       "      <td>0    -0.398075\n",
       "1    -0.398075\n",
       "2    -0.681258\n",
       "3...</td>\n",
       "      <td>0     0.071911\n",
       "1     0.071911\n",
       "2    -0.761725\n",
       "3...</td>\n",
       "      <td>0     0.175783\n",
       "1     0.175783\n",
       "2    -0.114525\n",
       "3...</td>\n",
       "      <td>0    -0.087891\n",
       "1    -0.087891\n",
       "2    -0.503377\n",
       "3...</td>\n",
       "    </tr>\n",
       "    <tr>\n",
       "      <th>5</th>\n",
       "      <td>0    -1.182602\n",
       "1    -0.765368\n",
       "2    -0.519464\n",
       "3...</td>\n",
       "      <td>0    -0.612973\n",
       "1    -2.759566\n",
       "2    -3.213704\n",
       "3...</td>\n",
       "      <td>0     0.167450\n",
       "1     0.414760\n",
       "2     0.907956\n",
       "3...</td>\n",
       "      <td>0    -0.276991\n",
       "1    -0.508704\n",
       "2    -0.077238\n",
       "3...</td>\n",
       "      <td>0    -0.082565\n",
       "1    -0.114525\n",
       "2    -0.261010\n",
       "3...</td>\n",
       "      <td>0    -0.213070\n",
       "1    -0.426140\n",
       "2     0.215733\n",
       "3...</td>\n",
       "    </tr>\n",
       "    <tr>\n",
       "      <th>15</th>\n",
       "      <td>0     -0.159076\n",
       "1     -0.159076\n",
       "2     -0.97770...</td>\n",
       "      <td>0      0.376722\n",
       "1      0.376722\n",
       "2      0.38349...</td>\n",
       "      <td>0    -0.445368\n",
       "1    -0.445368\n",
       "2     1.695360\n",
       "3...</td>\n",
       "      <td>0    -0.029297\n",
       "1    -0.029297\n",
       "2    -0.255684\n",
       "3...</td>\n",
       "      <td>0     0.029297\n",
       "1     0.029297\n",
       "2     0.375536\n",
       "3...</td>\n",
       "      <td>0    -0.047941\n",
       "1    -0.047941\n",
       "2     0.516694\n",
       "3...</td>\n",
       "    </tr>\n",
       "    <tr>\n",
       "      <th>35</th>\n",
       "      <td>0      1.102297\n",
       "1      1.102297\n",
       "2      0.73238...</td>\n",
       "      <td>0    -1.790773\n",
       "1    -1.790773\n",
       "2     0.661191\n",
       "3...</td>\n",
       "      <td>0      0.001413\n",
       "1      0.001413\n",
       "2     -1.57956...</td>\n",
       "      <td>0     0.258347\n",
       "1     0.258347\n",
       "2    -0.127842\n",
       "3...</td>\n",
       "      <td>0     -0.165129\n",
       "1     -0.165129\n",
       "2     -0.16779...</td>\n",
       "      <td>0      0.516694\n",
       "1      0.516694\n",
       "2     -0.58860...</td>\n",
       "    </tr>\n",
       "  </tbody>\n",
       "</table>\n",
       "</div>"
      ],
      "text/plain": [
       "                                                dim_0  \\\n",
       "26  0    -0.761604\n",
       "1    -0.761604\n",
       "2     0.121078\n",
       "3...   \n",
       "24  0     0.383922\n",
       "1     0.383922\n",
       "2    -0.272575\n",
       "3...   \n",
       "5   0    -1.182602\n",
       "1    -0.765368\n",
       "2    -0.519464\n",
       "3...   \n",
       "15  0     -0.159076\n",
       "1     -0.159076\n",
       "2     -0.97770...   \n",
       "35  0      1.102297\n",
       "1      1.102297\n",
       "2      0.73238...   \n",
       "\n",
       "                                                dim_1  \\\n",
       "26  0     0.260125\n",
       "1     0.260125\n",
       "2    -1.423255\n",
       "3...   \n",
       "24  0     0.302612\n",
       "1     0.302612\n",
       "2    -1.381236\n",
       "3...   \n",
       "5   0    -0.612973\n",
       "1    -2.759566\n",
       "2    -3.213704\n",
       "3...   \n",
       "15  0      0.376722\n",
       "1      0.376722\n",
       "2      0.38349...   \n",
       "35  0    -1.790773\n",
       "1    -1.790773\n",
       "2     0.661191\n",
       "3...   \n",
       "\n",
       "                                                dim_2  \\\n",
       "26  0    -0.064487\n",
       "1    -0.064487\n",
       "2     0.075600\n",
       "3...   \n",
       "24  0    -0.398075\n",
       "1    -0.398075\n",
       "2    -0.681258\n",
       "3...   \n",
       "5   0     0.167450\n",
       "1     0.414760\n",
       "2     0.907956\n",
       "3...   \n",
       "15  0    -0.445368\n",
       "1    -0.445368\n",
       "2     1.695360\n",
       "3...   \n",
       "35  0      0.001413\n",
       "1      0.001413\n",
       "2     -1.57956...   \n",
       "\n",
       "                                                dim_3  \\\n",
       "26  0     0.069248\n",
       "1     0.069248\n",
       "2    -0.282318\n",
       "3...   \n",
       "24  0     0.071911\n",
       "1     0.071911\n",
       "2    -0.761725\n",
       "3...   \n",
       "5   0    -0.276991\n",
       "1    -0.508704\n",
       "2    -0.077238\n",
       "3...   \n",
       "15  0    -0.029297\n",
       "1    -0.029297\n",
       "2    -0.255684\n",
       "3...   \n",
       "35  0     0.258347\n",
       "1     0.258347\n",
       "2    -0.127842\n",
       "3...   \n",
       "\n",
       "                                                dim_4  \\\n",
       "26  0     0.242367\n",
       "1     0.242367\n",
       "2    -0.332922\n",
       "3...   \n",
       "24  0     0.175783\n",
       "1     0.175783\n",
       "2    -0.114525\n",
       "3...   \n",
       "5   0    -0.082565\n",
       "1    -0.114525\n",
       "2    -0.261010\n",
       "3...   \n",
       "15  0     0.029297\n",
       "1     0.029297\n",
       "2     0.375536\n",
       "3...   \n",
       "35  0     -0.165129\n",
       "1     -0.165129\n",
       "2     -0.16779...   \n",
       "\n",
       "                                                dim_5  \n",
       "26  0    -0.007990\n",
       "1    -0.007990\n",
       "2     0.239704\n",
       "3...  \n",
       "24  0    -0.087891\n",
       "1    -0.087891\n",
       "2    -0.503377\n",
       "3...  \n",
       "5   0    -0.213070\n",
       "1    -0.426140\n",
       "2     0.215733\n",
       "3...  \n",
       "15  0    -0.047941\n",
       "1    -0.047941\n",
       "2     0.516694\n",
       "3...  \n",
       "35  0      0.516694\n",
       "1      0.516694\n",
       "2     -0.58860...  "
      ]
     },
     "execution_count": 9,
     "metadata": {},
     "output_type": "execute_result"
    }
   ],
   "source": [
    "# multivariate input data\n",
    "X_train.head()"
   ]
  },
  {
   "cell_type": "code",
   "execution_count": 10,
   "metadata": {
    "scrolled": true
   },
   "outputs": [
    {
     "name": "stderr",
     "output_type": "stream",
     "text": [
      "/Users/travis/build/alan-turing-institute/sktime/sktime/transformers/series_as_features/summarize/_tsfresh.py:150: UserWarning: Found non-unique index, replaced with unique index.\n",
      "  warn(\"Found non-unique index, replaced with unique index.\")\n"
     ]
    },
    {
     "name": "stderr",
     "output_type": "stream",
     "text": [
      "\r",
      "Feature Extraction:   0%|          | 0/5 [00:00<?, ?it/s]"
     ]
    },
    {
     "name": "stderr",
     "output_type": "stream",
     "text": [
      "\r",
      "Feature Extraction:  20%|██        | 1/5 [00:07<00:31,  7.87s/it]"
     ]
    },
    {
     "name": "stderr",
     "output_type": "stream",
     "text": [
      "\r",
      "Feature Extraction:  40%|████      | 2/5 [00:15<00:23,  7.75s/it]"
     ]
    },
    {
     "name": "stderr",
     "output_type": "stream",
     "text": [
      "\r",
      "Feature Extraction:  60%|██████    | 3/5 [00:22<00:15,  7.65s/it]"
     ]
    },
    {
     "name": "stderr",
     "output_type": "stream",
     "text": [
      "\r",
      "Feature Extraction:  80%|████████  | 4/5 [00:30<00:07,  7.54s/it]"
     ]
    },
    {
     "name": "stderr",
     "output_type": "stream",
     "text": [
      "\r",
      "Feature Extraction: 100%|██████████| 5/5 [00:37<00:00,  7.50s/it]"
     ]
    },
    {
     "name": "stderr",
     "output_type": "stream",
     "text": [
      "\r",
      "Feature Extraction: 100%|██████████| 5/5 [00:37<00:00,  7.49s/it]"
     ]
    },
    {
     "name": "stderr",
     "output_type": "stream",
     "text": [
      "\n"
     ]
    },
    {
     "data": {
      "text/html": [
       "<div>\n",
       "<style scoped>\n",
       "    .dataframe tbody tr th:only-of-type {\n",
       "        vertical-align: middle;\n",
       "    }\n",
       "\n",
       "    .dataframe tbody tr th {\n",
       "        vertical-align: top;\n",
       "    }\n",
       "\n",
       "    .dataframe thead th {\n",
       "        text-align: right;\n",
       "    }\n",
       "</style>\n",
       "<table border=\"1\" class=\"dataframe\">\n",
       "  <thead>\n",
       "    <tr style=\"text-align: right;\">\n",
       "      <th>variable</th>\n",
       "      <th>dim_0__abs_energy</th>\n",
       "      <th>dim_0__absolute_sum_of_changes</th>\n",
       "      <th>dim_0__agg_autocorrelation__f_agg_\"mean\"__maxlag_40</th>\n",
       "      <th>dim_0__agg_autocorrelation__f_agg_\"median\"__maxlag_40</th>\n",
       "      <th>dim_0__agg_autocorrelation__f_agg_\"var\"__maxlag_40</th>\n",
       "      <th>dim_0__agg_linear_trend__attr_\"intercept\"__chunk_len_10__f_agg_\"max\"</th>\n",
       "      <th>dim_0__agg_linear_trend__attr_\"intercept\"__chunk_len_10__f_agg_\"mean\"</th>\n",
       "      <th>dim_0__agg_linear_trend__attr_\"intercept\"__chunk_len_10__f_agg_\"min\"</th>\n",
       "      <th>dim_0__agg_linear_trend__attr_\"intercept\"__chunk_len_10__f_agg_\"var\"</th>\n",
       "      <th>dim_0__agg_linear_trend__attr_\"intercept\"__chunk_len_50__f_agg_\"max\"</th>\n",
       "      <th>...</th>\n",
       "      <th>dim_5__symmetry_looking__r_0.9500000000000001</th>\n",
       "      <th>dim_5__time_reversal_asymmetry_statistic__lag_1</th>\n",
       "      <th>dim_5__time_reversal_asymmetry_statistic__lag_2</th>\n",
       "      <th>dim_5__time_reversal_asymmetry_statistic__lag_3</th>\n",
       "      <th>dim_5__value_count__value_-1</th>\n",
       "      <th>dim_5__value_count__value_0</th>\n",
       "      <th>dim_5__value_count__value_1</th>\n",
       "      <th>dim_5__variance</th>\n",
       "      <th>dim_5__variance_larger_than_standard_deviation</th>\n",
       "      <th>dim_5__variation_coefficient</th>\n",
       "    </tr>\n",
       "  </thead>\n",
       "  <tbody>\n",
       "    <tr>\n",
       "      <th>0</th>\n",
       "      <td>220.949429</td>\n",
       "      <td>104.677565</td>\n",
       "      <td>-0.009585</td>\n",
       "      <td>-0.050995</td>\n",
       "      <td>0.059427</td>\n",
       "      <td>2.753245</td>\n",
       "      <td>0.627320</td>\n",
       "      <td>-0.862156</td>\n",
       "      <td>1.634518</td>\n",
       "      <td>3.490647</td>\n",
       "      <td>...</td>\n",
       "      <td>1.0</td>\n",
       "      <td>0.029599</td>\n",
       "      <td>0.139377</td>\n",
       "      <td>0.368081</td>\n",
       "      <td>0.0</td>\n",
       "      <td>0.0</td>\n",
       "      <td>0.0</td>\n",
       "      <td>1.671577</td>\n",
       "      <td>1.0</td>\n",
       "      <td>62.315369</td>\n",
       "    </tr>\n",
       "    <tr>\n",
       "      <th>1</th>\n",
       "      <td>354.117244</td>\n",
       "      <td>114.057871</td>\n",
       "      <td>-0.023083</td>\n",
       "      <td>-0.032382</td>\n",
       "      <td>0.030085</td>\n",
       "      <td>3.329963</td>\n",
       "      <td>1.457159</td>\n",
       "      <td>-0.272249</td>\n",
       "      <td>1.321890</td>\n",
       "      <td>6.289511</td>\n",
       "      <td>...</td>\n",
       "      <td>1.0</td>\n",
       "      <td>0.153130</td>\n",
       "      <td>0.718881</td>\n",
       "      <td>1.765228</td>\n",
       "      <td>0.0</td>\n",
       "      <td>0.0</td>\n",
       "      <td>0.0</td>\n",
       "      <td>2.662879</td>\n",
       "      <td>1.0</td>\n",
       "      <td>-20.101505</td>\n",
       "    </tr>\n",
       "    <tr>\n",
       "      <th>2</th>\n",
       "      <td>14.584008</td>\n",
       "      <td>25.125394</td>\n",
       "      <td>-0.011048</td>\n",
       "      <td>-0.021158</td>\n",
       "      <td>0.022999</td>\n",
       "      <td>0.803062</td>\n",
       "      <td>-0.027104</td>\n",
       "      <td>-0.612088</td>\n",
       "      <td>0.193713</td>\n",
       "      <td>1.887386</td>\n",
       "      <td>...</td>\n",
       "      <td>1.0</td>\n",
       "      <td>0.010750</td>\n",
       "      <td>0.028248</td>\n",
       "      <td>0.022197</td>\n",
       "      <td>0.0</td>\n",
       "      <td>0.0</td>\n",
       "      <td>0.0</td>\n",
       "      <td>0.200900</td>\n",
       "      <td>0.0</td>\n",
       "      <td>103.882590</td>\n",
       "    </tr>\n",
       "    <tr>\n",
       "      <th>3</th>\n",
       "      <td>20089.782616</td>\n",
       "      <td>936.012458</td>\n",
       "      <td>-0.031604</td>\n",
       "      <td>-0.070448</td>\n",
       "      <td>0.144797</td>\n",
       "      <td>24.032611</td>\n",
       "      <td>6.174375</td>\n",
       "      <td>-16.526685</td>\n",
       "      <td>200.755496</td>\n",
       "      <td>27.548164</td>\n",
       "      <td>...</td>\n",
       "      <td>1.0</td>\n",
       "      <td>5.090285</td>\n",
       "      <td>19.718272</td>\n",
       "      <td>76.965414</td>\n",
       "      <td>0.0</td>\n",
       "      <td>1.0</td>\n",
       "      <td>0.0</td>\n",
       "      <td>34.822337</td>\n",
       "      <td>1.0</td>\n",
       "      <td>-24.347572</td>\n",
       "    </tr>\n",
       "    <tr>\n",
       "      <th>4</th>\n",
       "      <td>8664.940770</td>\n",
       "      <td>324.813455</td>\n",
       "      <td>-0.034966</td>\n",
       "      <td>-0.112034</td>\n",
       "      <td>0.071626</td>\n",
       "      <td>20.912103</td>\n",
       "      <td>5.560128</td>\n",
       "      <td>-1.942906</td>\n",
       "      <td>63.322971</td>\n",
       "      <td>28.026657</td>\n",
       "      <td>...</td>\n",
       "      <td>1.0</td>\n",
       "      <td>32.364692</td>\n",
       "      <td>48.229669</td>\n",
       "      <td>93.801281</td>\n",
       "      <td>0.0</td>\n",
       "      <td>1.0</td>\n",
       "      <td>0.0</td>\n",
       "      <td>19.943600</td>\n",
       "      <td>1.0</td>\n",
       "      <td>-14.591905</td>\n",
       "    </tr>\n",
       "  </tbody>\n",
       "</table>\n",
       "<p>5 rows × 4542 columns</p>\n",
       "</div>"
      ],
      "text/plain": [
       "variable  dim_0__abs_energy  dim_0__absolute_sum_of_changes  \\\n",
       "0                220.949429                      104.677565   \n",
       "1                354.117244                      114.057871   \n",
       "2                 14.584008                       25.125394   \n",
       "3              20089.782616                      936.012458   \n",
       "4               8664.940770                      324.813455   \n",
       "\n",
       "variable  dim_0__agg_autocorrelation__f_agg_\"mean\"__maxlag_40  \\\n",
       "0                                                 -0.009585     \n",
       "1                                                 -0.023083     \n",
       "2                                                 -0.011048     \n",
       "3                                                 -0.031604     \n",
       "4                                                 -0.034966     \n",
       "\n",
       "variable  dim_0__agg_autocorrelation__f_agg_\"median\"__maxlag_40  \\\n",
       "0                                                 -0.050995       \n",
       "1                                                 -0.032382       \n",
       "2                                                 -0.021158       \n",
       "3                                                 -0.070448       \n",
       "4                                                 -0.112034       \n",
       "\n",
       "variable  dim_0__agg_autocorrelation__f_agg_\"var\"__maxlag_40  \\\n",
       "0                                                  0.059427    \n",
       "1                                                  0.030085    \n",
       "2                                                  0.022999    \n",
       "3                                                  0.144797    \n",
       "4                                                  0.071626    \n",
       "\n",
       "variable  dim_0__agg_linear_trend__attr_\"intercept\"__chunk_len_10__f_agg_\"max\"  \\\n",
       "0                                                  2.753245                      \n",
       "1                                                  3.329963                      \n",
       "2                                                  0.803062                      \n",
       "3                                                 24.032611                      \n",
       "4                                                 20.912103                      \n",
       "\n",
       "variable  dim_0__agg_linear_trend__attr_\"intercept\"__chunk_len_10__f_agg_\"mean\"  \\\n",
       "0                                                  0.627320                       \n",
       "1                                                  1.457159                       \n",
       "2                                                 -0.027104                       \n",
       "3                                                  6.174375                       \n",
       "4                                                  5.560128                       \n",
       "\n",
       "variable  dim_0__agg_linear_trend__attr_\"intercept\"__chunk_len_10__f_agg_\"min\"  \\\n",
       "0                                                 -0.862156                      \n",
       "1                                                 -0.272249                      \n",
       "2                                                 -0.612088                      \n",
       "3                                                -16.526685                      \n",
       "4                                                 -1.942906                      \n",
       "\n",
       "variable  dim_0__agg_linear_trend__attr_\"intercept\"__chunk_len_10__f_agg_\"var\"  \\\n",
       "0                                                  1.634518                      \n",
       "1                                                  1.321890                      \n",
       "2                                                  0.193713                      \n",
       "3                                                200.755496                      \n",
       "4                                                 63.322971                      \n",
       "\n",
       "variable  dim_0__agg_linear_trend__attr_\"intercept\"__chunk_len_50__f_agg_\"max\"  \\\n",
       "0                                                  3.490647                      \n",
       "1                                                  6.289511                      \n",
       "2                                                  1.887386                      \n",
       "3                                                 27.548164                      \n",
       "4                                                 28.026657                      \n",
       "\n",
       "variable  ...  dim_5__symmetry_looking__r_0.9500000000000001  \\\n",
       "0         ...                                            1.0   \n",
       "1         ...                                            1.0   \n",
       "2         ...                                            1.0   \n",
       "3         ...                                            1.0   \n",
       "4         ...                                            1.0   \n",
       "\n",
       "variable  dim_5__time_reversal_asymmetry_statistic__lag_1  \\\n",
       "0                                                0.029599   \n",
       "1                                                0.153130   \n",
       "2                                                0.010750   \n",
       "3                                                5.090285   \n",
       "4                                               32.364692   \n",
       "\n",
       "variable  dim_5__time_reversal_asymmetry_statistic__lag_2  \\\n",
       "0                                                0.139377   \n",
       "1                                                0.718881   \n",
       "2                                                0.028248   \n",
       "3                                               19.718272   \n",
       "4                                               48.229669   \n",
       "\n",
       "variable  dim_5__time_reversal_asymmetry_statistic__lag_3  \\\n",
       "0                                                0.368081   \n",
       "1                                                1.765228   \n",
       "2                                                0.022197   \n",
       "3                                               76.965414   \n",
       "4                                               93.801281   \n",
       "\n",
       "variable  dim_5__value_count__value_-1  dim_5__value_count__value_0  \\\n",
       "0                                  0.0                          0.0   \n",
       "1                                  0.0                          0.0   \n",
       "2                                  0.0                          0.0   \n",
       "3                                  0.0                          1.0   \n",
       "4                                  0.0                          1.0   \n",
       "\n",
       "variable  dim_5__value_count__value_1  dim_5__variance  \\\n",
       "0                                 0.0         1.671577   \n",
       "1                                 0.0         2.662879   \n",
       "2                                 0.0         0.200900   \n",
       "3                                 0.0        34.822337   \n",
       "4                                 0.0        19.943600   \n",
       "\n",
       "variable  dim_5__variance_larger_than_standard_deviation  \\\n",
       "0                                                    1.0   \n",
       "1                                                    1.0   \n",
       "2                                                    0.0   \n",
       "3                                                    1.0   \n",
       "4                                                    1.0   \n",
       "\n",
       "variable  dim_5__variation_coefficient  \n",
       "0                            62.315369  \n",
       "1                           -20.101505  \n",
       "2                           103.882590  \n",
       "3                           -24.347572  \n",
       "4                           -14.591905  \n",
       "\n",
       "[5 rows x 4542 columns]"
      ]
     },
     "execution_count": 10,
     "metadata": {},
     "output_type": "execute_result"
    }
   ],
   "source": [
    "t = TSFreshFeatureExtractor(default_fc_parameters=\"efficient\", show_warnings=False)\n",
    "Xt = t.fit_transform(X_train)\n",
    "Xt.head()"
   ]
  }
 ],
 "metadata": {
  "kernelspec": {
   "display_name": "Python 3",
   "language": "python",
   "name": "python3"
  },
  "language_info": {
   "codemirror_mode": {
    "name": "ipython",
    "version": 3
   },
   "file_extension": ".py",
   "mimetype": "text/x-python",
   "name": "python",
   "nbconvert_exporter": "python",
   "pygments_lexer": "ipython3",
   "version": "3.7.7"
  }
 },
 "nbformat": 4,
 "nbformat_minor": 4
}
